{
 "cells": [
  {
   "cell_type": "code",
   "execution_count": 5,
   "id": "10107899",
   "metadata": {},
   "outputs": [],
   "source": [
    "import numpy as np\n",
    "from ForwardTime import *\n",
    "import matplotlib.pyplot as plt"
   ]
  },
  {
   "cell_type": "code",
   "execution_count": 7,
   "id": "be613b94",
   "metadata": {},
   "outputs": [],
   "source": [
    "class Receiver():\n",
    "    # data\n",
    "    \n",
    "    # functions\n",
    "    def __init__(self, total_time, position):\n",
    "        nt = total_time._nt\n",
    "        record_array = np.zeros(nt, dtype=float)\n",
    "        self._position = position\n",
    "        self._ra = record_array\n",
    "        self._ta = total_time\n",
    "    \n",
    "    # to be continued\n",
    "    def draw_record(self):\n",
    "        return "
   ]
  },
  {
   "cell_type": "code",
   "execution_count": null,
   "id": "05a82149",
   "metadata": {},
   "outputs": [],
   "source": []
  }
 ],
 "metadata": {
  "kernelspec": {
   "display_name": "Python 3",
   "language": "python",
   "name": "python3"
  },
  "language_info": {
   "codemirror_mode": {
    "name": "ipython",
    "version": 3
   },
   "file_extension": ".py",
   "mimetype": "text/x-python",
   "name": "python",
   "nbconvert_exporter": "python",
   "pygments_lexer": "ipython3",
   "version": "3.8.8"
  }
 },
 "nbformat": 4,
 "nbformat_minor": 5
}
