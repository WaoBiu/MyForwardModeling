{
 "cells": [
  {
   "cell_type": "code",
   "execution_count": 18,
   "id": "d3049e6e",
   "metadata": {},
   "outputs": [],
   "source": [
    "import numpy as np\n",
    "from scipy.signal import convolve"
   ]
  },
  {
   "cell_type": "code",
   "execution_count": 19,
   "id": "8b7ef036",
   "metadata": {},
   "outputs": [],
   "source": [
    "# # 2nd in time\n",
    "# class Operator():\n",
    "#     # data\n",
    "    \n",
    "#     # function\n",
    "#     def __init__(self, model, source, receiver, ft, order, coefficient):\n",
    "#         self._model = model\n",
    "#         self._source = source\n",
    "#         self._receiver = receiver\n",
    "#         self._ft = ft\n",
    "#         return True\n",
    "        \n",
    "#     def execute(self,):\n",
    "        \n",
    "#         array_size = self._model._array_size\n",
    "#         t_array = ft._t_array\n",
    "        \n",
    "#         u = np.zeros(array_size, dtype=float)\n",
    "#         v = np.zeros(array_size, dtype=float)\n",
    "#         r = np.zeros(array_size, dtype=float)\n",
    "#         t = np.zeros(array_size, dtype=float)\n",
    "#         h = np.zeros(array_size, dtype=float)\n",
    "        \n",
    "#         for tk, tt in enumerate(t_array):\n",
    "#             if tk >= 1:  # the first step needs not to compute\n",
    "                \n",
    "#                 u_x = self.o24_cal_u_x(u)\n",
    "#                 u_z = self.o24_cal_u_z(u)\n",
    "#                 v_x = self.o24_cal_v_x(v)\n",
    "#                 v_z = self.o24_cal_v_z(v)\n",
    "                \n",
    "#                 r = self.o24ComputeTauxx(r, u_x ,v_z)\n",
    "#                 t = self.o24ComputeTauzz(t, u_x ,v_z)\n",
    "#                 h = self.o24ComputeTauxz(h ,v_x, u_z)\n",
    "\n",
    "#                 r_x = self.o24_cal_r_x(r)\n",
    "#                 t_z = self.o24_cal_t_z(t)\n",
    "#                 h_x = self.o24_cal_h_x(h)\n",
    "#                 h_z = self.o24_cal_h_z(h)\n",
    "\n",
    "#                 u = self.o24ComputeVx(u, r_x, h_z)\n",
    "#                 v = self.o24ComputeVz(v, t_z, h_x)\n",
    "                \n",
    "\n",
    "                \n",
    "#                 if tk < len(wavelet):  # source is active\n",
    "#                     if wavalet_direction=='x':\n",
    "#                         u[wavalet_position[1], wavalet_position[0]] += wavelet[tk] \n",
    "#                     else:\n",
    "#                         v[wavalet_position[1], wavalet_position[0]] += wavelet[tk]\n",
    "\n",
    "#             self._vx[:,:,tk] = u\n",
    "#             self._vz[:,:,tk] = v\n",
    "            \n",
    "#             if (np.max(u)>20):\n",
    "#                 print(\"divergent! Please reset gird spacing or/and time step length.\")\n",
    "#                 return\n",
    "        \n",
    "#         return True"
   ]
  },
  {
   "cell_type": "code",
   "execution_count": 26,
   "id": "0765de04",
   "metadata": {},
   "outputs": [],
   "source": [
    "class Operator():\n",
    "    # data\n",
    "    \n",
    "    # function\n",
    "    # older =  (t, s) t:time older, s:space order\n",
    "    # coefficien = [c1, c2, c3, ...] used for computing derivative\n",
    "    # space_step = (dx, dz)\n",
    "    def __init__(self, order, coefficient, space_step):\n",
    "        self._to = order[0]\n",
    "        self._so = roder[1]\n",
    "        self._dx = space_step[0]\n",
    "        self._dz = space_step[1]\n",
    "        self._coefficient = coefficient\n",
    "        \n",
    "    def compute_u_x(self, data):\n",
    "        coefficient = np.array(self._coefficient)\n",
    "        mid_position = coefficient.size\n",
    "        kernal_size = coefficient.size * 2 + 1\n",
    "        kernal = np.zeros((kernal_size, kernal_size), dtype=float)\n",
    "        kernal[0:mid_position,mid_position] = coefficient[::-1] \n",
    "        kernal[mid_position:-1,mid_position] = coefficient * -1\n",
    "        return convolve(data, kernal, mode='same') / self._dx\n",
    "    \n",
    "    def compute_u_z(self, data):\n",
    "        coefficient = np.array(self._coefficient)\n",
    "        mid_position = coefficient.size\n",
    "        kernal_size = coefficient.size * 2 + 1\n",
    "        kernal = np.zeros((kernal_size, kernal_size), dtype=float)\n",
    "        kernal[mid_position,0:mid_position] = coefficient[::-1] \n",
    "        kernal[mid_position,mid_position:-1] = coefficient * -1\n",
    "        return convolve(data, kernal, mode='same') / self._dz\n",
    "    \n",
    "    def compute_v_x(self, data):\n",
    "        coefficient = np.array(self._coefficient)\n",
    "        mid_position = coefficient.size\n",
    "        kernal_size = coefficient.size * 2 + 1\n",
    "        kernal = np.zeros((kernal_size, kernal_size), dtype=float)\n",
    "        kernal[1:mid_position+1,mid_position] = coefficient[::-1] \n",
    "        kernal[mid_position+1:,mid_position] = coefficient * -1\n",
    "        return convolve(data, kernal, mode='same') / self._dx\n",
    "  \n",
    "    def compute_v_z(self, data):\n",
    "        coefficient = np.array(self._coefficient)\n",
    "        mid_position = coefficient.size\n",
    "        kernal_size = coefficient.size * 2 + 1\n",
    "        kernal = np.zeros((kernal_size, kernal_size), dtype=float)\n",
    "        kernal[mid_position,1:mid_position+1] = coefficient[::-1] \n",
    "        kernal[mid_position,mid_position+1:] = coefficient * -1\n",
    "        return convolve(data, kernal, mode='same') / self._dz\n",
    "    \n",
    "    def compute_r_x(self, data):\n",
    "        coefficient = np.array(self._coefficient)\n",
    "        mid_position = coefficient.size\n",
    "        kernal_size = coefficient.size * 2 + 1\n",
    "        kernal = np.zeros((kernal_size, kernal_size), dtype=float)\n",
    "        kernal[1:mid_position+1,mid_position] = coefficient[::-1] \n",
    "        kernal[mid_position+1:,mid_position] = coefficient * -1\n",
    "        return convolve(data, kernal, mode='same') / self._dx\n",
    "    \n",
    "    def compute_h_z(self, data):\n",
    "        coefficient = np.array(self._coefficient)\n",
    "        mid_position = coefficient.size\n",
    "        kernal_size = coefficient.size * 2 + 1\n",
    "        kernal = np.zeros((kernal_size, kernal_size), dtype=float)\n",
    "        kernal[1:mid_position+1,mid_position] = coefficient[::-1] \n",
    "        kernal[mid_position+1:,mid_position] = coefficient * -1\n",
    "        return convolve(data, kernal, mode='same') / self._dz\n",
    "    \n",
    "    def compute_h_x(self, data):\n",
    "        coefficient = np.array(self._coefficient)\n",
    "        mid_position = coefficient.size\n",
    "        kernal_size = coefficient.size * 2 + 1\n",
    "        kernal = np.zeros((kernal_size, kernal_size), dtype=float)\n",
    "        kernal[0:mid_position,mid_position] = coefficient[::-1] \n",
    "        kernal[mid_position:-1,mid_position] = coefficient * -1\n",
    "        return convolve(data, kernal, mode='same') / self._dx\n",
    "    \n",
    "    def compute_t_z(self, data):\n",
    "        coefficient = np.array(self._coefficient)\n",
    "        mid_position = coefficient.size\n",
    "        kernal_size = coefficient.size * 2 + 1\n",
    "        kernal = np.zeros((kernal_size, kernal_size), dtype=float)\n",
    "        kernal[0:mid_position,mid_position] = coefficient[::-1] \n",
    "        kernal[mid_position:-1,mid_position] = coefficient * -1\n",
    "        return convolve(data, kernal, mode='same') / self._dz"
   ]
  },
  {
   "cell_type": "code",
   "execution_count": 27,
   "id": "9ffb6ad0",
   "metadata": {},
   "outputs": [
    {
     "name": "stdout",
     "output_type": "stream",
     "text": [
      "[1 2 3 4 5]\n"
     ]
    }
   ],
   "source": [
    "# a = (1,2,2,3,4,)\n",
    "# a = [1,2,2,3,4]\n",
    "a = np.array([1,2,3,4,5,])\n",
    "b = np.array(a)\n",
    "# b = len(a)\n",
    "print(b)"
   ]
  },
  {
   "cell_type": "code",
   "execution_count": 28,
   "id": "ef722926",
   "metadata": {},
   "outputs": [],
   "source": [
    "coefficient = np.array([1,2,3,4,5])\n",
    "mid_position = coefficient.size\n",
    "kernal_size = coefficient.size * 2 + 1\n",
    "kernal = np.zeros((kernal_size, kernal_size), dtype=float)\n",
    "kernal[0:mid_position,mid_position] = coefficient[::-1] \n",
    "kernal[mid_position:-1,mid_position] = coefficient * -1"
   ]
  },
  {
   "cell_type": "code",
   "execution_count": 29,
   "id": "305bf791",
   "metadata": {},
   "outputs": [
    {
     "name": "stdout",
     "output_type": "stream",
     "text": [
      "[[ 0.  0.  0.  0.  0.  5.  0.  0.  0.  0.  0.]\n",
      " [ 0.  0.  0.  0.  0.  4.  0.  0.  0.  0.  0.]\n",
      " [ 0.  0.  0.  0.  0.  3.  0.  0.  0.  0.  0.]\n",
      " [ 0.  0.  0.  0.  0.  2.  0.  0.  0.  0.  0.]\n",
      " [ 0.  0.  0.  0.  0.  1.  0.  0.  0.  0.  0.]\n",
      " [ 0.  0.  0.  0.  0. -1.  0.  0.  0.  0.  0.]\n",
      " [ 0.  0.  0.  0.  0. -2.  0.  0.  0.  0.  0.]\n",
      " [ 0.  0.  0.  0.  0. -3.  0.  0.  0.  0.  0.]\n",
      " [ 0.  0.  0.  0.  0. -4.  0.  0.  0.  0.  0.]\n",
      " [ 0.  0.  0.  0.  0. -5.  0.  0.  0.  0.  0.]\n",
      " [ 0.  0.  0.  0.  0.  0.  0.  0.  0.  0.  0.]]\n"
     ]
    }
   ],
   "source": [
    "print(kernal)"
   ]
  },
  {
   "cell_type": "code",
   "execution_count": 30,
   "id": "9ca34ca3",
   "metadata": {},
   "outputs": [],
   "source": [
    "# coefficient = np.array(self._coefficient)\n",
    "mid_position = coefficient.size\n",
    "kernal_size = coefficient.size * 2 + 1\n",
    "kernal = np.zeros((kernal_size, kernal_size), dtype=float)\n",
    "kernal[1:mid_position+1,mid_position] = coefficient[::-1] \n",
    "kernal[mid_position+1:,mid_position] = coefficient * -1"
   ]
  },
  {
   "cell_type": "code",
   "execution_count": 31,
   "id": "52cdb8bf",
   "metadata": {},
   "outputs": [
    {
     "name": "stdout",
     "output_type": "stream",
     "text": [
      "[[ 0.  0.  0.  0.  0.  0.  0.  0.  0.  0.  0.]\n",
      " [ 0.  0.  0.  0.  0.  5.  0.  0.  0.  0.  0.]\n",
      " [ 0.  0.  0.  0.  0.  4.  0.  0.  0.  0.  0.]\n",
      " [ 0.  0.  0.  0.  0.  3.  0.  0.  0.  0.  0.]\n",
      " [ 0.  0.  0.  0.  0.  2.  0.  0.  0.  0.  0.]\n",
      " [ 0.  0.  0.  0.  0.  1.  0.  0.  0.  0.  0.]\n",
      " [ 0.  0.  0.  0.  0. -1.  0.  0.  0.  0.  0.]\n",
      " [ 0.  0.  0.  0.  0. -2.  0.  0.  0.  0.  0.]\n",
      " [ 0.  0.  0.  0.  0. -3.  0.  0.  0.  0.  0.]\n",
      " [ 0.  0.  0.  0.  0. -4.  0.  0.  0.  0.  0.]\n",
      " [ 0.  0.  0.  0.  0. -5.  0.  0.  0.  0.  0.]]\n"
     ]
    }
   ],
   "source": [
    "print(kernal)"
   ]
  },
  {
   "cell_type": "code",
   "execution_count": null,
   "id": "0971b63c",
   "metadata": {},
   "outputs": [],
   "source": []
  },
  {
   "cell_type": "code",
   "execution_count": null,
   "id": "4d75b6ff",
   "metadata": {},
   "outputs": [],
   "source": []
  }
 ],
 "metadata": {
  "kernelspec": {
   "display_name": "Python 3",
   "language": "python",
   "name": "python3"
  },
  "language_info": {
   "codemirror_mode": {
    "name": "ipython",
    "version": 3
   },
   "file_extension": ".py",
   "mimetype": "text/x-python",
   "name": "python",
   "nbconvert_exporter": "python",
   "pygments_lexer": "ipython3",
   "version": "3.8.8"
  }
 },
 "nbformat": 4,
 "nbformat_minor": 5
}
