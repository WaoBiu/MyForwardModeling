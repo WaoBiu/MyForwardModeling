{
 "cells": [
  {
   "cell_type": "code",
   "execution_count": 24,
   "id": "fbf43cab",
   "metadata": {},
   "outputs": [],
   "source": [
    "import numpy as np\n",
    "import matplotlib.pyplot as plt"
   ]
  },
  {
   "cell_type": "code",
   "execution_count": 41,
   "id": "26b6412c",
   "metadata": {},
   "outputs": [],
   "source": [
    "class Model():\n",
    "    \n",
    "    def __init__(self, pmodel, vpmodel, vsmodel, xlen, zlen, dx, dz, nx, nz):\n",
    "        if xlen==None or zlen==None:\n",
    "            xlen = dx * nx\n",
    "            zlen = dz * nz\n",
    "        elif dx==None or dz==None:\n",
    "            dx = xlen / dx\n",
    "            dz = zlen / dz\n",
    "        elif nz==None or nx==None:\n",
    "            nx = int(xlen / dx) + 1\n",
    "            nz = int(zlen / dz) + 1\n",
    "            \n",
    "        self._pmodel = pmodel\n",
    "        self._vpmodel = vpmodel\n",
    "        self._vsmodel = vsmodel\n",
    "        self._xlength = xlen\n",
    "        self._zlength = zlen\n",
    "        self._npx = nx\n",
    "        self._npz = nz\n",
    "        self._xspacing = dx\n",
    "        self._zspacing = dz\n",
    "        \n",
    "    def show(self, which=\"vpmodel\"):\n",
    "        if which==\"vpmodel\":\n",
    "            model = self._vpmodel\n",
    "        elif which==\"vsmodel\":\n",
    "            model = self._vsmodel\n",
    "        else:\n",
    "            model = self._pmodel\n",
    "            \n",
    "        print(model)\n",
    "        \n",
    "        plt.figure()\n",
    "        plt.imshow(model.T, cmap=plt.cm.coolwarm)\n",
    "        plt.colorbar(shrink=0.9)\n",
    "        \n",
    "        ax = plt.gca()\n",
    "        ax.spines['right'].set_color('none')\n",
    "        ax.spines['bottom'].set_color('none')\n",
    "        ax.xaxis.set_ticks_position('top')\n",
    "        ax.yaxis.set_ticks_position('left')\n",
    "        \n",
    "        plt.xticks(np.linspace(0, self._npx, 5),np.linspace(0, self._xlength, 5))\n",
    "        plt.yticks(np.linspace(0, self._npz, 5),np.linspace(0, self._zlength, 5))\n",
    "        \n",
    "        plt.show()"
   ]
  },
  {
   "cell_type": "code",
   "execution_count": 42,
   "id": "25b341f7",
   "metadata": {},
   "outputs": [],
   "source": [
    "xlength = 1000\n",
    "zlength = 1000\n",
    "dx = 100\n",
    "dz = 100\n",
    "nx = 101\n",
    "nz = 101\n",
    "\n",
    "pmodel = np.ones((101,101))\n",
    "vsmodel = np.ones((101,101))\n",
    "vpmodel = np.ones((101,101))\n",
    "\n",
    "pmodel[:,0:20] = 2\n",
    "vpmodel[:,0:20] = 2\n",
    "vsmodel[:,0:20] = 2\n",
    "\n",
    "test = Model(pmodel, vpmodel, vsmodel, xlength, zlength, nx, nz, dx, dz)\n",
    "# print(test._vpmodel)\n",
    "# print(type(test))"
   ]
  },
  {
   "cell_type": "code",
   "execution_count": 43,
   "id": "40c51c0b",
   "metadata": {},
   "outputs": [
    {
     "name": "stdout",
     "output_type": "stream",
     "text": [
      "[[2. 2. 2. ... 1. 1. 1.]\n",
      " [2. 2. 2. ... 1. 1. 1.]\n",
      " [2. 2. 2. ... 1. 1. 1.]\n",
      " ...\n",
      " [2. 2. 2. ... 1. 1. 1.]\n",
      " [2. 2. 2. ... 1. 1. 1.]\n",
      " [2. 2. 2. ... 1. 1. 1.]]\n"
     ]
    },
    {
     "data": {
      "image/png": "[encoded data removed]",
      "text/plain": [
       "<Figure size 432x288 with 2 Axes>"
      ]
     },
     "metadata": {
      "needs_background": "light"
     },
     "output_type": "display_data"
    }
   ],
   "source": [
    "test.show()"
   ]
  }
 ],
 "metadata": {
  "kernelspec": {
   "display_name": "Python 3",
   "language": "python",
   "name": "python3"
  },
  "language_info": {
   "codemirror_mode": {
    "name": "ipython",
    "version": 3
   },
   "file_extension": ".py",
   "mimetype": "text/x-python",
   "name": "python",
   "nbconvert_exporter": "python",
   "pygments_lexer": "ipython3",
   "version": "3.8.8"
  }
 },
 "nbformat": 4,
 "nbformat_minor": 5
}
