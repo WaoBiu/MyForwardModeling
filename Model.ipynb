{
 "cells": [
  {
   "cell_type": "code",
   "execution_count": 39,
   "id": "b0005831",
   "metadata": {},
   "outputs": [],
   "source": [
    "import numpy as np\n",
    "import matplotlib.pyplot as plt\n",
    "from math import sqrt"
   ]
  },
  {
   "cell_type": "code",
   "execution_count": 40,
   "id": "94e96c51",
   "metadata": {},
   "outputs": [],
   "source": [
    "class Model:\n",
    "    # data\n",
    "    \n",
    "    # function\n",
    "    \n",
    "    # normal model without boundary condition and input parameters are the size of model(meter) and array(1)(x,z),\n",
    "    # the velocity of P wave and S wave and the density, respectively.\n",
    "    def __init__(self, model_size, array_size, vp_model, vs_model, pho_model):\n",
    "        self._model_size = model_size\n",
    "        self._array_size = array_size\n",
    "        self._vp_model = vp_model\n",
    "        self._vs_model = vs_model\n",
    "        self._pho_model = pho_model\n",
    "        self._c11 = pho_model * np.power(vp_model, 2)\n",
    "        self._c44 = pho_model * np.power(vs_model, 2)\n",
    "        self._c13 = self._c11 - 2 * self._c44\n",
    "        \n",
    "    # visualizing the model, input parameters are figure size, showing data(vp,vs or density) and figure title\n",
    "    def draw_model(self, size=(8,6), datatype='vp', title=''):\n",
    "        if datatype == 'vp':\n",
    "            show_data = self._vp_model\n",
    "        elif datatype == 'vs':\n",
    "            show_data = self._vs_model\n",
    "        else:\n",
    "            show_data = self._pho_model\n",
    "            \n",
    "        image_size = size\n",
    "        image_title = title\n",
    "        \n",
    "        plt.figure(figsize=image_size)\n",
    "        plt.title(image_title)\n",
    "        plt.imshow(show_data.T, aspect='auto')\n",
    "        plt.show()"
   ]
  },
  {
   "cell_type": "code",
   "execution_count": 46,
   "id": "369a0251",
   "metadata": {},
   "outputs": [],
   "source": [
    "class PML_Model(Model):\n",
    "    # data\n",
    "    \n",
    "    # function\n",
    "    \n",
    "    # pml model, input parameters are the time_step, the size of model(meter) and array(1)(x,z), the model of velocity of P wave,\n",
    "    # S wave and density, the numbers of pml_layer(x=z) and the max value of pml auxiliary parameters(kai , sigma \n",
    "    # and alpha of x and z direction, the order is kai_x, kai_z, sigma_x, sigma_z, alpha_x and alpha_z), respectively\n",
    "    def __init__(self, dt, model_size, array_size, vp_model, vs_model, pho_model, pml_layer, pml_max):\n",
    "        super().__init__(model_size, array_size, vp_model, vs_model, pho_model)\n",
    "        self._pml_layer = pml_layer\n",
    "        \n",
    "        nx = array_size[0]\n",
    "        nz = array_size[1]\n",
    "        \n",
    "        xspacing = np.linspace(0,nx,nx)\n",
    "        zspacing = np.linspace(0,nz,nz)\n",
    "        zmesh, xmesh = np.meshgrid(zspacing, xspacing)\n",
    "        \n",
    "        sigma_x_max = pml_max[0]\n",
    "        sigma_z_max = pml_max[1]\n",
    "        kai_x_max = pml_max[2]\n",
    "        kai_z_max = pml_max[3]\n",
    "        alpha_x_max = pml_max[4]\n",
    "        alpha_z_max = pml_max[5]\n",
    "        \n",
    "        pml_len = pml_layer\n",
    "        \n",
    "        sigma_x = np.where(xmesh<pml_len, sigma_x_max * np.power((pml_len-xmesh)/pml_len,2),\\\n",
    "                               np.where(nx-xmesh<pml_len, sigma_x_max * np.power((xmesh-nx+pml_len)/pml_len,2), 0))\n",
    "        \n",
    "        sigma_z = np.where(zmesh<pml_len, sigma_z_max * np.power((pml_len-zmesh)/pml_len,2),\\\n",
    "                               np.where(nz-zmesh<pml_len, sigma_z_max * np.power((zmesh-nz+pml_len)/pml_len,2), 0))\n",
    "        \n",
    "        kai_x = np.where(xmesh<pml_len, (kai_x_max - 1) * np.power((pml_len-xmesh)/pml_len,2) + 1,\\\n",
    "                               np.where(nx-xmesh<pml_len, (kai_x_max - 1) * np.power((xmesh-nx+pml_len)/pml_len,2) + 1, 1))\n",
    "        \n",
    "        kai_z = np.where(zmesh<pml_len, (kai_z_max - 1) * np.power((pml_len-zmesh)/pml_len,2) + 1,\\\n",
    "                               np.where(nz-zmesh<pml_len, (kai_z_max - 1) * np.power((zmesh-nz+pml_len)/pml_len,2) + 1, 1))\n",
    "        \n",
    "        alpha_x = np.where(xmesh<pml_len, alpha_x_max * np.power((pml_len-xmesh)/pml_len,2),\\\n",
    "                               np.where(nx-xmesh<pml_len, alpha_x_max * np.power((xmesh-nx+pml_len)/pml_len,2), 0))\n",
    "        \n",
    "        alpha_z = np.where(zmesh<pml_len, alpha_z_max * np.power((pml_len-zmesh)/pml_len,2),\\\n",
    "                               np.where(nz-zmesh<pml_len, alpha_z_max * np.power((zmesh-nz+pml_len)/pml_len,2), 0))\n",
    "        \n",
    "        self._kai_x = kai_x\n",
    "        self._kai_z = kai_z\n",
    "        \n",
    "        self._b_x = np.exp(-1 * (alpha_x + sigma_x / kai_x) * dt)\n",
    "        self._a_x = np.where(sigma_x==0, 0, (1 - self._b_x) * sigma_x / (kai_x * (kai_x * alpha_x + sigma_x)))\n",
    "        \n",
    "        self._b_z = np.exp(-1 * (alpha_z + sigma_z / kai_z) * dt)\n",
    "        self._a_z = np.where(sigma_z==0, 0, (1 - self._b_z) * sigma_z / (kai_z * (kai_z * alpha_z + sigma_z)))"
   ]
  },
  {
   "cell_type": "code",
   "execution_count": 47,
   "id": "9948566b",
   "metadata": {},
   "outputs": [],
   "source": [
    "model_size = (3000, 1000)\n",
    "array_size = (301, 101)\n",
    "vp_model = np.ones(array_size, dtype=float) * 2500\n",
    "vp_model[:, 80:] = 3000\n",
    "vs_model = np.ones(array_size, dtype=float) * 2000\n",
    "pho_model = np.ones(array_size, dtype=float) * 2700\n",
    "\n",
    "test_model = Model(model_size, array_size, vp_model, vs_model, pho_model)"
   ]
  },
  {
   "cell_type": "code",
   "execution_count": 48,
   "id": "9e5cecf3",
   "metadata": {},
   "outputs": [
    {
     "data": {
      "image/png": "[encoded data removed]",
      "text/plain": [
       "<Figure size 576x432 with 1 Axes>"
      ]
     },
     "metadata": {
      "needs_background": "light"
     },
     "output_type": "display_data"
    }
   ],
   "source": [
    "test_model.draw_model()"
   ]
  },
  {
   "cell_type": "code",
   "execution_count": 49,
   "id": "8f8d611c",
   "metadata": {},
   "outputs": [],
   "source": [
    "dt = 0.001\n",
    "pml_layer = 10\n",
    "pml_max = (1200, 1200, 2, 2, 150, 150)"
   ]
  },
  {
   "cell_type": "code",
   "execution_count": 50,
   "id": "1ae99bc8",
   "metadata": {},
   "outputs": [
    {
     "name": "stderr",
     "output_type": "stream",
     "text": [
      "<ipython-input-46-5fe24ccfe8f1>:51: RuntimeWarning: invalid value encountered in true_divide\n",
      "  self._a_x = np.where(sigma_x==0, 0, (1 - self._b_x) * sigma_x / (kai_x * (kai_x * alpha_x + sigma_x)))\n",
      "<ipython-input-46-5fe24ccfe8f1>:54: RuntimeWarning: invalid value encountered in true_divide\n",
      "  self._a_z = np.where(sigma_z==0, 0, (1 - self._b_z) * sigma_z / (kai_z * (kai_z * alpha_z + sigma_z)))\n"
     ]
    }
   ],
   "source": [
    "test_pml_model = PML_Model(dt, model_size, array_size, vp_model, vs_model, pho_model, pml_layer, pml_max)"
   ]
  },
  {
   "cell_type": "code",
   "execution_count": 51,
   "id": "930c72b4",
   "metadata": {},
   "outputs": [
    {
     "data": {
      "image/png": "[encoded data removed]",
      "text/plain": [
       "<Figure size 576x432 with 1 Axes>"
      ]
     },
     "metadata": {
      "needs_background": "light"
     },
     "output_type": "display_data"
    }
   ],
   "source": [
    "test_pml_model.draw_model()"
   ]
  }
 ],
 "metadata": {
  "kernelspec": {
   "display_name": "Python 3",
   "language": "python",
   "name": "python3"
  },
  "language_info": {
   "codemirror_mode": {
    "name": "ipython",
    "version": 3
   },
   "file_extension": ".py",
   "mimetype": "text/x-python",
   "name": "python",
   "nbconvert_exporter": "python",
   "pygments_lexer": "ipython3",
   "version": "3.8.8"
  }
 },
 "nbformat": 4,
 "nbformat_minor": 5
}
