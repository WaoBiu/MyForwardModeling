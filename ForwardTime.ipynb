{
 "cells": [
  {
   "cell_type": "code",
   "execution_count": 2,
   "id": "5898dfc0",
   "metadata": {},
   "outputs": [],
   "source": [
    "import math\n",
    "import numpy as np"
   ]
  },
  {
   "cell_type": "code",
   "execution_count": 3,
   "id": "b778c891",
   "metadata": {},
   "outputs": [],
   "source": [
    "class ForwardTime():\n",
    "    # data \n",
    "    \n",
    "    # function\n",
    "    # dt=time step, nt = total points of time, t_len = time duration\n",
    "    def __init__(self, dt, nt, t_len):\n",
    "        self._dt = dt\n",
    "        self._nt = nt\n",
    "        self._t_len = t_len\n",
    "        self._t_array = np.linspace(0,t_len, nt)"
   ]
  },
  {
   "cell_type": "code",
   "execution_count": 4,
   "id": "2c9a512a",
   "metadata": {},
   "outputs": [],
   "source": [
    "dt = 0.001\n",
    "nt = 1001\n",
    "t_len = 1\n",
    "test_ForwardTime = ForwardTime(dt, nt, t_len)"
   ]
  },
  {
   "cell_type": "code",
   "execution_count": 5,
   "id": "5e4e86b1",
   "metadata": {},
   "outputs": [
    {
     "name": "stdout",
     "output_type": "stream",
     "text": [
      "[0.    0.001 0.002 ... 0.998 0.999 1.   ]\n"
     ]
    }
   ],
   "source": [
    "print(test_ForwardTime._t_array)"
   ]
  }
 ],
 "metadata": {
  "kernelspec": {
   "display_name": "Python 3",
   "language": "python",
   "name": "python3"
  },
  "language_info": {
   "codemirror_mode": {
    "name": "ipython",
    "version": 3
   },
   "file_extension": ".py",
   "mimetype": "text/x-python",
   "name": "python",
   "nbconvert_exporter": "python",
   "pygments_lexer": "ipython3",
   "version": "3.8.8"
  }
 },
 "nbformat": 4,
 "nbformat_minor": 5
}
